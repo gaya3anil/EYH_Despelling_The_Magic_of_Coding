{
 "cells": [
  {
   "cell_type": "markdown",
   "id": "928c2e65-9251-4093-948f-5033f22d4c03",
   "metadata": {},
   "source": [
    "Write a function that takes two numbers and returns their product"
   ]
  },
  {
   "cell_type": "code",
   "execution_count": 2,
   "id": "4dae5ff6-0959-42fe-8611-93cc3337e2ab",
   "metadata": {},
   "outputs": [],
   "source": [
    "def product(x,y):\n",
    "    return x*y"
   ]
  },
  {
   "cell_type": "code",
   "execution_count": 3,
   "id": "6a8ef2b1-917c-4c63-bdd7-93cb66d34b7d",
   "metadata": {},
   "outputs": [
    {
     "data": {
      "text/plain": [
       "6"
      ]
     },
     "execution_count": 3,
     "metadata": {},
     "output_type": "execute_result"
    }
   ],
   "source": [
    "product(3,2)"
   ]
  },
  {
   "cell_type": "markdown",
   "id": "6c94f3e2-e161-4608-b6a7-4c010041e2e4",
   "metadata": {},
   "source": [
    "Write a loop that returns the square of numbers 1 to 5"
   ]
  },
  {
   "cell_type": "code",
   "execution_count": 11,
   "id": "a1872af6-7d1f-4816-bab4-2b9c8637715e",
   "metadata": {},
   "outputs": [
    {
     "name": "stdout",
     "output_type": "stream",
     "text": [
      "1\n",
      "4\n",
      "9\n",
      "16\n",
      "25\n"
     ]
    }
   ],
   "source": [
    "for i in range (1,6):\n",
    "    square_of_number=i*i\n",
    "    print(square_of_number)"
   ]
  },
  {
   "cell_type": "code",
   "execution_count": null,
   "id": "b0290274-af3b-4546-bf97-5a8d2da2d491",
   "metadata": {},
   "outputs": [],
   "source": []
  }
 ],
 "metadata": {
  "kernelspec": {
   "display_name": "Python 3 (ipykernel)",
   "language": "python",
   "name": "python3"
  },
  "language_info": {
   "codemirror_mode": {
    "name": "ipython",
    "version": 3
   },
   "file_extension": ".py",
   "mimetype": "text/x-python",
   "name": "python",
   "nbconvert_exporter": "python",
   "pygments_lexer": "ipython3",
   "version": "3.12.3"
  }
 },
 "nbformat": 4,
 "nbformat_minor": 5
}
