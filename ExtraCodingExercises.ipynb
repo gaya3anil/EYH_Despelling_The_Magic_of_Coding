{
 "cells": [
  {
   "cell_type": "markdown",
   "id": "928c2e65-9251-4093-948f-5033f22d4c03",
   "metadata": {},
   "source": [
    "Write a function that takes two numbers and returns their product"
   ]
  },
  {
   "cell_type": "code",
   "execution_count": null,
   "id": "4dae5ff6-0959-42fe-8611-93cc3337e2ab",
   "metadata": {},
   "outputs": [],
   "source": []
  },
  {
   "cell_type": "markdown",
   "id": "6c94f3e2-e161-4608-b6a7-4c010041e2e4",
   "metadata": {},
   "source": [
    "Write a loop that returns the square of numbers 1 to 5"
   ]
  },
  {
   "cell_type": "code",
   "execution_count": null,
   "id": "a1872af6-7d1f-4816-bab4-2b9c8637715e",
   "metadata": {},
   "outputs": [],
   "source": []
  }
 ],
 "metadata": {
  "kernelspec": {
   "display_name": "Python 3 (ipykernel)",
   "language": "python",
   "name": "python3"
  },
  "language_info": {
   "codemirror_mode": {
    "name": "ipython",
    "version": 3
   },
   "file_extension": ".py",
   "mimetype": "text/x-python",
   "name": "python",
   "nbconvert_exporter": "python",
   "pygments_lexer": "ipython3",
   "version": "3.12.3"
  }
 },
 "nbformat": 4,
 "nbformat_minor": 5
}
