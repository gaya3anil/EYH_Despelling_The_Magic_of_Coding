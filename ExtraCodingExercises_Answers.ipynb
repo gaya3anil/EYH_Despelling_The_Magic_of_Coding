{
 "cells": [
  {
   "cell_type": "code",
   "execution_count": null,
   "id": "f55b1d68-8f12-468c-a4a7-366173c2df71",
   "metadata": {},
   "outputs": [],
   "source": [
    "import random"
   ]
  },
  {
   "cell_type": "markdown",
   "id": "928c2e65-9251-4093-948f-5033f22d4c03",
   "metadata": {},
   "source": [
    "Write a function that takes two numbers and returns their product"
   ]
  },
  {
   "cell_type": "code",
   "execution_count": 2,
   "id": "4dae5ff6-0959-42fe-8611-93cc3337e2ab",
   "metadata": {},
   "outputs": [],
   "source": [
    "def product(x,y):\n",
    "    return x*y"
   ]
  },
  {
   "cell_type": "code",
   "execution_count": 3,
   "id": "6a8ef2b1-917c-4c63-bdd7-93cb66d34b7d",
   "metadata": {},
   "outputs": [
    {
     "data": {
      "text/plain": [
       "6"
      ]
     },
     "execution_count": 3,
     "metadata": {},
     "output_type": "execute_result"
    }
   ],
   "source": [
    "product(3,2)"
   ]
  },
  {
   "cell_type": "markdown",
   "id": "6c94f3e2-e161-4608-b6a7-4c010041e2e4",
   "metadata": {},
   "source": [
    "Write a loop that returns the square of numbers 1 to 5"
   ]
  },
  {
   "cell_type": "code",
   "execution_count": 11,
   "id": "a1872af6-7d1f-4816-bab4-2b9c8637715e",
   "metadata": {},
   "outputs": [
    {
     "name": "stdout",
     "output_type": "stream",
     "text": [
      "1\n",
      "4\n",
      "9\n",
      "16\n",
      "25\n"
     ]
    }
   ],
   "source": [
    "for i in range (1,6):\n",
    "    square_of_number=i*i\n",
    "    print(square_of_number)"
   ]
  },
  {
   "cell_type": "markdown",
   "id": "37a071b7-5fd8-44b4-8a50-1d11461e3020",
   "metadata": {},
   "source": [
    "Write a function that simulates rolling a dice. If you roll a 6 you win! If not, keep rolling. Count how many rolls it takes to get a 6.\n",
    "\n",
    "Hint: There is a function in the random package in python that allows you to randomly select a number within a range. For example, random.randint(1, 100) randomly selects a number between 1 and 100."
   ]
  },
  {
   "cell_type": "code",
   "execution_count": 33,
   "id": "a416d478-dbd6-429a-a39d-92f7e17eeae9",
   "metadata": {},
   "outputs": [],
   "source": [
    "def roll_dice():\n",
    "    number_of_rolls=0\n",
    "\n",
    "    while True:\n",
    "        roll= random.randint(1, 6)\n",
    "\n",
    "        if (roll==6):\n",
    "            print(f\"You win!!!!! Your roll was {roll}\")\n",
    "            print(f\"It took the following number of rolls {number_of_rolls}\")\n",
    "            break\n",
    "\n",
    "        else:\n",
    "            number_of_rolls=number_of_rolls+1\n",
    "            print(f\"Try again. You rolled a {roll}\")\n",
    "        "
   ]
  },
  {
   "cell_type": "code",
   "execution_count": 34,
   "id": "c633c8a6-c4e1-425e-8523-4058fca54e87",
   "metadata": {},
   "outputs": [
    {
     "name": "stdout",
     "output_type": "stream",
     "text": [
      "Try again. You rolled a 4\n",
      "Try again. You rolled a 5\n",
      "Try again. You rolled a 1\n",
      "Try again. You rolled a 1\n",
      "Try again. You rolled a 1\n",
      "Try again. You rolled a 5\n",
      "Try again. You rolled a 2\n",
      "Try again. You rolled a 3\n",
      "Try again. You rolled a 4\n",
      "Try again. You rolled a 1\n",
      "Try again. You rolled a 2\n",
      "You win!!!!! Your roll was 6\n",
      "It took the following number of rolls 11\n"
     ]
    }
   ],
   "source": [
    "roll_dice()"
   ]
  },
  {
   "cell_type": "code",
   "execution_count": null,
   "id": "7d0589a8-2ddc-4536-a2cd-c14564ffbb9d",
   "metadata": {},
   "outputs": [],
   "source": []
  }
 ],
 "metadata": {
  "kernelspec": {
   "display_name": "Python 3 (ipykernel)",
   "language": "python",
   "name": "python3"
  },
  "language_info": {
   "codemirror_mode": {
    "name": "ipython",
    "version": 3
   },
   "file_extension": ".py",
   "mimetype": "text/x-python",
   "name": "python",
   "nbconvert_exporter": "python",
   "pygments_lexer": "ipython3",
   "version": "3.12.3"
  }
 },
 "nbformat": 4,
 "nbformat_minor": 5
}
